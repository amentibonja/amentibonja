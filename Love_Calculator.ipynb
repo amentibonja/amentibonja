{
 "cells": [
  {
   "cell_type": "code",
   "execution_count": 72,
   "id": "29d0be7a",
   "metadata": {},
   "outputs": [
    {
     "name": "stdout",
     "output_type": "stream",
     "text": [
      "Welcome to the Love Calculator!\n",
      "What is your name? \n",
      "amenti bonja\n",
      "What is their name? \n",
      "hanan dirirsa\n",
      "Your score is 0, you go together like mentos.\n",
      "Your score is 0, you go together like mentos.\n",
      "Your score is 11.\n",
      "Your score is 11.\n",
      "Your score is 21.\n",
      "Your score is 21.\n",
      "Your score is 21.\n",
      "Your score is 21.\n",
      "Your score is 22.\n",
      "Your score is 22.\n",
      "Your score is 22.\n",
      "Your score is 22.\n",
      "Your score is 22.\n",
      "Your score is 22.\n",
      "Your score is 22.\n",
      "Your score is 22.\n",
      "Your score is 22.\n",
      "Your score is 22.\n",
      "Your score is 22.\n",
      "Your score is 22.\n",
      "Your score is 32.\n",
      "Your score is 32.\n",
      "Your score is 42, you are alright together.\n",
      "Your score is 42, you are alright together.\n",
      "Your score is 42, you are alright together.\n"
     ]
    }
   ],
   "source": [
    "print(\"Welcome to the Love Calculator!\")\n",
    "name1 = input(\"What is your name? \\n\")\n",
    "name2 = input(\"What is their name? \\n\")\n",
    "\n",
    "combined_name = name1+name2\n",
    "\n",
    "check1 = 'TRUE'\n",
    "check2 = 'LOVE'\n",
    "\n",
    "check1_count = 0\n",
    "check2_count = 0\n",
    "\n",
    "for letter in combined_name.upper():\n",
    "    match1 = check1.count(letter)\n",
    "    match2 = check2.count(letter)\n",
    "    check1_count += match1\n",
    "    check2_count += match2\n",
    "    \n",
    "    love_percent_str = str(check1_count)+str(check2_count)\n",
    "    love_percent = int(love_percent_str)\n",
    "    \n",
    "    if love_percent > 40 and love_percent < 50:\n",
    "        print(f\"Your score is {love_percent}, you are alright together.\")\n",
    "    elif love_percent < 10 or love_percent > 90:\n",
    "        print(f\"Your score is {love_percent}, you go together like mentos.\")\n",
    "    else:\n",
    "        print(f\"Your score is {love_percent}.\")"
   ]
  },
  {
   "cell_type": "code",
   "execution_count": 65,
   "id": "59cf20de",
   "metadata": {},
   "outputs": [
    {
     "data": {
      "text/plain": [
       "4"
      ]
     },
     "execution_count": 65,
     "metadata": {},
     "output_type": "execute_result"
    }
   ],
   "source": [
    "check1_count"
   ]
  },
  {
   "cell_type": "code",
   "execution_count": 66,
   "id": "fe3c55db",
   "metadata": {},
   "outputs": [
    {
     "data": {
      "text/plain": [
       "2"
      ]
     },
     "execution_count": 66,
     "metadata": {},
     "output_type": "execute_result"
    }
   ],
   "source": [
    "check2_count"
   ]
  },
  {
   "cell_type": "code",
   "execution_count": 67,
   "id": "e412f319",
   "metadata": {},
   "outputs": [
    {
     "data": {
      "text/plain": [
       "'42'"
      ]
     },
     "execution_count": 67,
     "metadata": {},
     "output_type": "execute_result"
    }
   ],
   "source": [
    "love_percent"
   ]
  },
  {
   "cell_type": "code",
   "execution_count": 15,
   "id": "7e33f4fa",
   "metadata": {},
   "outputs": [
    {
     "data": {
      "text/plain": [
       "'T'"
      ]
     },
     "execution_count": 15,
     "metadata": {},
     "output_type": "execute_result"
    }
   ],
   "source": [
    "check1[0]"
   ]
  },
  {
   "cell_type": "code",
   "execution_count": 74,
   "id": "4dd81249",
   "metadata": {},
   "outputs": [
    {
     "data": {
      "text/plain": [
       "42"
      ]
     },
     "execution_count": 74,
     "metadata": {},
     "output_type": "execute_result"
    }
   ],
   "source": [
    "love_percent"
   ]
  },
  {
   "cell_type": "code",
   "execution_count": 25,
   "id": "82bda2a3",
   "metadata": {},
   "outputs": [],
   "source": [
    "check = \"TRUE\""
   ]
  },
  {
   "cell_type": "code",
   "execution_count": 29,
   "id": "14a08511",
   "metadata": {},
   "outputs": [],
   "source": [
    "for letters in check:\n",
    "    match = letters.count(name)"
   ]
  },
  {
   "cell_type": "code",
   "execution_count": 30,
   "id": "ac33635a",
   "metadata": {},
   "outputs": [
    {
     "data": {
      "text/plain": [
       "0"
      ]
     },
     "execution_count": 30,
     "metadata": {},
     "output_type": "execute_result"
    }
   ],
   "source": [
    "match"
   ]
  },
  {
   "cell_type": "code",
   "execution_count": 45,
   "id": "17b9efdd",
   "metadata": {},
   "outputs": [],
   "source": [
    "name = 'AMENTI'\n",
    "check = 'TRUE'"
   ]
  },
  {
   "cell_type": "code",
   "execution_count": 46,
   "id": "33b69da2",
   "metadata": {},
   "outputs": [],
   "source": [
    "for letter in list(name[:]):\n",
    "    match = check.count(letter)"
   ]
  },
  {
   "cell_type": "code",
   "execution_count": 47,
   "id": "d4de9594",
   "metadata": {},
   "outputs": [
    {
     "data": {
      "text/plain": [
       "0"
      ]
     },
     "execution_count": 47,
     "metadata": {},
     "output_type": "execute_result"
    }
   ],
   "source": [
    "match"
   ]
  },
  {
   "cell_type": "code",
   "execution_count": 70,
   "id": "6e02487c",
   "metadata": {},
   "outputs": [
    {
     "data": {
      "text/plain": [
       "42"
      ]
     },
     "execution_count": 70,
     "metadata": {},
     "output_type": "execute_result"
    }
   ],
   "source": [
    "int('42')"
   ]
  },
  {
   "cell_type": "code",
   "execution_count": 118,
   "id": "9b24156d",
   "metadata": {},
   "outputs": [
    {
     "name": "stdout",
     "output_type": "stream",
     "text": [
      "Welcome to the Love Calculator!\n",
      "What is your name? \n",
      "mAcHInE LEarNiNg\n",
      "What is their name? \n",
      "wEb dEVeLoPMeNt\n",
      "Your score is 810, you go together like coke and mentos.\n"
     ]
    }
   ],
   "source": [
    "print(\"Welcome to the Love Calculator!\")\n",
    "name1 = input(\"What is your name? \\n\")\n",
    "name2 = input(\"What is their name? \\n\")\n",
    "\n",
    "couples_name_joined = name1 + name2\n",
    "\n",
    "check1 = 'TRUE'\n",
    "check2 = 'LOVE'\n",
    "\n",
    "check1_count = 0\n",
    "check2_count = 0\n",
    "\n",
    "for letter in couples_name_joined.upper():\n",
    "    match1 = check1.count(letter)\n",
    "    match2 = check2.count(letter)\n",
    "    check1_count += match1\n",
    "    check2_count += match2\n",
    "    love_percent_str = str(check1_count)+str(check2_count)\n",
    "    love_percent = int(love_percent_str)\n",
    "\n",
    "if love_percent < 10 or love_percent > 90:\n",
    "    print(f\"Your score is {love_percent}, you go together like coke and mentos.\")\n",
    "elif love_percent > 40 and love_percent < 50:\n",
    "    print(f\"Your score is {love_percent}, you are alright together.\")\n",
    "else:\n",
    "    print(f\"Your score is {love_percent}.\")"
   ]
  },
  {
   "cell_type": "code",
   "execution_count": 103,
   "id": "71ae86ad",
   "metadata": {},
   "outputs": [
    {
     "data": {
      "text/plain": [
       "4"
      ]
     },
     "execution_count": 103,
     "metadata": {},
     "output_type": "execute_result"
    }
   ],
   "source": [
    "check1_count"
   ]
  },
  {
   "cell_type": "code",
   "execution_count": 104,
   "id": "5c763e51",
   "metadata": {},
   "outputs": [
    {
     "data": {
      "text/plain": [
       "2"
      ]
     },
     "execution_count": 104,
     "metadata": {},
     "output_type": "execute_result"
    }
   ],
   "source": [
    "check2_count"
   ]
  },
  {
   "cell_type": "code",
   "execution_count": 110,
   "id": "898451bb",
   "metadata": {},
   "outputs": [
    {
     "data": {
      "text/plain": [
       "0"
      ]
     },
     "execution_count": 110,
     "metadata": {},
     "output_type": "execute_result"
    }
   ],
   "source": [
    "match1"
   ]
  },
  {
   "cell_type": "code",
   "execution_count": 105,
   "id": "e854e111",
   "metadata": {},
   "outputs": [
    {
     "data": {
      "text/plain": [
       "'42'"
      ]
     },
     "execution_count": 105,
     "metadata": {},
     "output_type": "execute_result"
    }
   ],
   "source": [
    "love_percent_str"
   ]
  },
  {
   "cell_type": "code",
   "execution_count": 106,
   "id": "51707983",
   "metadata": {},
   "outputs": [
    {
     "data": {
      "text/plain": [
       "42"
      ]
     },
     "execution_count": 106,
     "metadata": {},
     "output_type": "execute_result"
    }
   ],
   "source": [
    "love_percent"
   ]
  },
  {
   "cell_type": "code",
   "execution_count": null,
   "id": "3cf7769b",
   "metadata": {},
   "outputs": [],
   "source": []
  }
 ],
 "metadata": {
  "kernelspec": {
   "display_name": "Python 3 (ipykernel)",
   "language": "python",
   "name": "python3"
  },
  "language_info": {
   "codemirror_mode": {
    "name": "ipython",
    "version": 3
   },
   "file_extension": ".py",
   "mimetype": "text/x-python",
   "name": "python",
   "nbconvert_exporter": "python",
   "pygments_lexer": "ipython3",
   "version": "3.9.7"
  }
 },
 "nbformat": 4,
 "nbformat_minor": 5
}
